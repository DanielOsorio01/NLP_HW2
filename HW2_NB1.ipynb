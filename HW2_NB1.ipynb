{
  "cells": [
    {
      "cell_type": "markdown",
      "metadata": {
        "id": "cdRxw48iK5pk"
      },
      "source": [
        "# **Procesamiento de Lenguaje Natural**\n",
        "\n",
        "## **Tarea 2 - Notebook 1**\n",
        "\n",
        "## Integrantes\n",
        "\n",
        "* ### Daniel Osorio Cárdenas\n",
        "* ### Juan Diego Calixto Núñez\n",
        "\n",
        "Este Notebook incluye los literales I, II, III, IV de la tarea. Estos corresponden a la construcción de los modelos de lenguaje que se usarán en el Notebook 2."
      ]
    },
    {
      "cell_type": "code",
      "execution_count": 4,
      "metadata": {
        "id": "7Z5cokMaKNPL"
      },
      "outputs": [],
      "source": [
        "# Configurar los directorios donde se encuentran los archivos de datos\n",
        "NEWS_FOLDER = '20news-18828'\n",
        "BLOGS_FOLDER = 'blogs'"
      ]
    },
    {
      "cell_type": "code",
      "execution_count": 34,
      "metadata": {},
      "outputs": [
        {
          "name": "stdout",
          "output_type": "stream",
          "text": [
            "Tamaño del archivo .pickle de 20news-18828:  30956851 bytes =  30231.2998046875 KB\n",
            "The M code stream  might be independently attacked based on knowledge ofclipper chip protocols as revealed plaintext.  This could be invalidatedby changing the temporal and or spatial relationship of the clipper M streamand the actual transmitted stream, under the control of a secure keygenerator synchronized between endpoints.The useful life time of captured law enforcement blocks might be limitedbased on hostile forces using them as targets following transmissioninterception.  You would need a large number of them, but, hey there'ssupposed to be millions of these things, right?  Adding time stamps tothe encrypted law enforcement block is probably impractical, who wantsan encryption chip with a real time clock?*****************************************************************************The entire idea of the law enforcement block can be invalidated.I just had the thought, that you could capture your own law enforcement blocksfor session keys K that you will not use in actual transmissions asthe session key authenticators.  The proviso that you don't mind your ownserial number being discovered.d. denning just sent out further information of a new version of the clipperchip.\tIf a hash function were to be embedded in a clipper M transmissionblock reflecting the law enforcement block, it better not fall on 64 bit blockboundaries.  If it were a recognizeable datum, you could lie with it too.I like the randomizer inclusion in the MYK-80.  I remember reading thatIntel had an approved random noise source on silicon, hence the abilityto put it Inside.You ever think that Mykotronx sounds like one of those made up names ofcompanies used as fronts for intelligence organizations?\n"
          ]
        }
      ],
      "source": [
        "import os\n",
        "import pickle\n",
        "\n",
        "# Listar los folders de 20news-18828\n",
        "news_folder = os.listdir(NEWS_FOLDER)\n",
        "\n",
        "# Listar los archivos de blogs\n",
        "blogs_files = os.listdir(BLOGS_FOLDER)\n",
        "\n",
        "# Crear un archivo .pickle para guardar la información de 20news-18828 y blogs\n",
        "news_consolidated = 'news_consolidated.pickle'\n",
        "blogs_consolidated = 'blogs_consolidated.pickle'\n",
        "\n",
        "texts = []\n",
        "# Recorremos cada archivo de news y lo guardamos en el archivo .pickle correspondiente\n",
        "\n",
        "for folder in news_folder:\n",
        "    for file_name in os.listdir(NEWS_FOLDER + '/' + folder):\n",
        "        extracted_text = ''\n",
        "        with open(NEWS_FOLDER + '/' + folder + '/' + file_name, 'r', encoding='utf-8', errors='ignore') as f:\n",
        "            for line in f:\n",
        "                line = line.strip()\n",
        "                # Agregamos solo las lineas del contenido del archivo\n",
        "                if not line.startswith('From:') and not line.startswith('Subject:'):\n",
        "                    extracted_text += line\n",
        "            texts.append(extracted_text)\n",
        "# Guardamos el contenido del archivo en el archivo .pickle\n",
        "with open(news_consolidated, 'wb') as file:\n",
        "    pickle.dump(texts, file)\n",
        "\n",
        "# Revisamos el tamaño del archivo .pickle\n",
        "print('Tamaño del archivo .pickle de 20news-18828: ', os.path.getsize(news_consolidated), 'bytes = ', os.path.getsize(news_consolidated) / 1024, 'KB')\n",
        "\n",
        "# Probamos leyendo el archivo .pickle\n",
        "with open(news_consolidated, 'rb') as file:\n",
        "    data = pickle.load(file)\n",
        "\n",
        "print(data[0])"
      ]
    },
    {
      "cell_type": "code",
      "execution_count": 4,
      "metadata": {},
      "outputs": [
        {
          "name": "stdout",
          "output_type": "stream",
          "text": [
            "Tamaño del archivo .txt de 20news-18828:  31579481 bytes =  30839.3369140625 KB\n"
          ]
        }
      ],
      "source": [
        "# CARGAR ARCHIVO CONSOLIDADO CON .txt\n",
        "\n",
        "# Listar los folders de 20news-18828\n",
        "news_folder = os.listdir(NEWS_FOLDER)\n",
        "\n",
        "# Recorremos cada archivo de news\n",
        "news_texts = []\n",
        "for folder in news_folder:\n",
        "    for file_name in os.listdir(NEWS_FOLDER + '/' + folder):\n",
        "        extracted_text = ''\n",
        "        with open(NEWS_FOLDER + '/' + folder + '/' + file_name, 'r', encoding='utf-8', errors='ignore') as f:\n",
        "            for line in f:\n",
        "                line = line.strip()\n",
        "                # Agregamos solo las lineas del contenido del archivo\n",
        "                if not line.startswith('From:') and not line.startswith('Subject:'):\n",
        "                    extracted_text += line + \" \"\n",
        "            news_texts.append(extracted_text)\n",
        "\n",
        "# Guardamos todos los textos en un unico .txt\n",
        "with open('news_consolidated.txt', 'w', encoding='utf-8') as file:\n",
        "    for text in news_texts:\n",
        "        file.write(text)\n",
        "\n",
        "# Revisamos el tamaño del archivo .txt\n",
        "print('Tamaño del archivo .txt de 20news-18828: ', os.path.getsize('news_consolidated.txt'), 'bytes = ', os.path.getsize('news_consolidated.txt') / 1024, 'KB')"
      ]
    },
    {
      "cell_type": "code",
      "execution_count": 13,
      "metadata": {},
      "outputs": [],
      "source": [
        "# CARGAR ARCHIVOS BLOGS Y CREAR CONSOLIDADO CON .txt\n",
        "import xml.etree.ElementTree as ET\n",
        "import os\n",
        "\n",
        "# Recorremos cada archivo de blogs\n",
        "blogs_texts = []\n",
        "for filename in os.listdir(BLOGS_FOLDER):\n",
        "    extracted_text = ''\n",
        "    with open(BLOGS_FOLDER + '/' + filename, 'r', encoding='utf-8', errors='ignore') as f:\n",
        "        for line in f:\n",
        "            line = line.strip()\n",
        "            extracted_text += line + \" \"\n",
        "        blogs_texts.append(extracted_text)\n",
        "\n",
        "# Guardamos todos los textos en un unico .txt\n",
        "with open('blogs_consolidated.txt', 'w', encoding='utf-8') as file:\n",
        "    for text in blogs_texts:\n",
        "        file.write(text)\n"
      ]
    },
    {
      "cell_type": "code",
      "execution_count": 68,
      "metadata": {},
      "outputs": [
        {
          "name": "stdout",
          "output_type": "stream",
          "text": [
            "\n",
            "\n",
            "\t \n",
            "      I've been selling books online since April, and am painfully aware of the vast ocean of book-knowledge that I haven't yet begun to cross. But even before I set out on that voyage, there's a smaller body of retailing commonsense I ought to master. Alas for me.  Who'd have guessed that there's a person out there who uses  orange highlighter  in an otherwise lovely  urlLink Heritage Press  edition of Christopher Marlowe? What'd they think it was, a textbook? Lesson #1: Don't wait until you're ready to sell the merchandise to give it a careful inspection, even if it looks great on the outside. \n",
            "    \n",
            "\n"
          ]
        }
      ],
      "source": [
        "print(blogs_texts[0])"
      ]
    }
  ],
  "metadata": {
    "colab": {
      "provenance": []
    },
    "kernelspec": {
      "display_name": "Python 3",
      "name": "python3"
    },
    "language_info": {
      "codemirror_mode": {
        "name": "ipython",
        "version": 3
      },
      "file_extension": ".py",
      "mimetype": "text/x-python",
      "name": "python",
      "nbconvert_exporter": "python",
      "pygments_lexer": "ipython3",
      "version": "3.10.12"
    }
  },
  "nbformat": 4,
  "nbformat_minor": 0
}
