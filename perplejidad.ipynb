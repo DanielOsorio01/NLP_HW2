{
 "cells": [
  {
   "cell_type": "markdown",
   "metadata": {},
   "source": [
    "# Perplejidad"
   ]
  },
  {
   "cell_type": "code",
   "execution_count": 1,
   "metadata": {},
   "outputs": [],
   "source": [
    "import pickle\n",
    "from collections import Counter\n",
    "import math"
   ]
  },
  {
   "cell_type": "markdown",
   "metadata": {},
   "source": [
    "#### Carga de los archivos .plk que tienen las probabilidades de cada n-grama"
   ]
  },
  {
   "cell_type": "code",
   "execution_count": 2,
   "metadata": {},
   "outputs": [],
   "source": [
    "# news unigrams\n",
    "news_unigrams_file = open(\"20N_unigrams.pkl\",\"rb\")\n",
    "news_unigrams_pkl = pickle.load(news_unigrams_file)\n",
    "\n",
    "# blogs unigrams\n",
    "blogs_unigrams_file = open(\"BAC_unigrams.pkl\",\"rb\")\n",
    "blogs_unigrams_pkl = pickle.load(blogs_unigrams_file)\n",
    "\n",
    "# news bigrams\n",
    "news_bigrams_file = open(\"20N_bigrams.pkl\",\"rb\")\n",
    "news_bigrams_pkl = pickle.load(news_bigrams_file)\n",
    "\n",
    "# blogs bigrams\n",
    "blogs_bigrams_file = open(\"BAC_bigrams.pkl\",\"rb\")\n",
    "blogs_bigrams_pkl = pickle.load(blogs_bigrams_file)"
   ]
  },
  {
   "cell_type": "markdown",
   "metadata": {},
   "source": [
    "#### Creacion de diccionarios de probabilidades"
   ]
  },
  {
   "cell_type": "code",
   "execution_count": 3,
   "metadata": {},
   "outputs": [],
   "source": [
    "# news unigrams probabilities\n",
    "news_probs_unigrams = {sample[0]:news_unigrams_pkl.prob(sample[0]) for sample in news_unigrams_pkl.samples()}\n",
    "\n",
    "# blogs unigrams probabilities\n",
    "blogs_probs_unigrams = {sample[0]:blogs_unigrams_pkl.prob(sample[0]) for sample in blogs_unigrams_pkl.samples()}\n",
    "\n",
    "# news bigrams probabilities\n",
    "news_probs_bigrams = {sample:news_bigrams_pkl.prob(sample) for sample in news_bigrams_pkl.samples()}\n",
    "\n",
    "# blogs bigrams probabilities\n",
    "blogs_probs_bigrams = {sample:blogs_bigrams_pkl.prob(sample) for sample in blogs_bigrams_pkl.samples()}\n"
   ]
  },
  {
   "cell_type": "markdown",
   "metadata": {},
   "source": [
    "#### Lectura de los datasets de prueba y creacion de counters con las palabras"
   ]
  },
  {
   "cell_type": "code",
   "execution_count": 4,
   "metadata": {},
   "outputs": [
    {
     "name": "stdout",
     "output_type": "stream",
     "text": [
      "Cantidad de oraciones en 20N_GROUP_testing:  6542527\n"
     ]
    }
   ],
   "source": [
    "# Se cargan los archivos de test\n",
    "with open('20N_GROUP_testing.txt', 'r', encoding='utf-8', errors='ignore') as file:\n",
    "    news_texts_test = file.read()\n",
    "\n",
    "# Vamos a separar el corpus de train de 20N en sentencias\n",
    "news_texts_train = news_texts_test.split('. ')\n",
    "print('Cantidad de oraciones en 20N_GROUP_testing: ', len(news_texts_test))\n",
    "\n",
    "# Vamos a recorrer cada sentencia y separarla en palabras para agregarlas a un diccionario de frecuencias\n",
    "news_word_counts_test = Counter()\n",
    "for sentence in news_texts_train:\n",
    "    # Se separa la sentencia en palabras\n",
    "    sentence = sentence.split(' ')\n",
    "    # Si el ultimo caracter de una palabra no es una letra, se quita\n",
    "    for i in range(len(sentence)):\n",
    "        if sentence[i] != \"\" and not sentence[i][-1].isalpha():\n",
    "            sentence[i] = sentence[i][:-1]\n",
    "    # Se agregan las palabras al diccionario de frecuencias\n",
    "    news_word_counts_test.update(sentence)"
   ]
  },
  {
   "cell_type": "code",
   "execution_count": 5,
   "metadata": {},
   "outputs": [
    {
     "name": "stdout",
     "output_type": "stream",
     "text": [
      "Cantidad de oraciones en BAC_GROUP_testing:  151031140\n"
     ]
    }
   ],
   "source": [
    "# Se cargan los archivos de test\n",
    "with open('BAC_GROUP_testing.txt', 'r', encoding='utf-8', errors='ignore') as file:\n",
    "    blogs_texts_test = file.read()\n",
    "\n",
    "# Vamos a separar el corpus de train de 20N en sentencias\n",
    "blogs_texts_train = blogs_texts_test.split('. ')\n",
    "print('Cantidad de oraciones en BAC_GROUP_testing: ', len(blogs_texts_test))\n",
    "\n",
    "# Vamos a recorrer cada sentencia y separarla en palabras para agregarlas a un diccionario de frecuencias\n",
    "blogs_word_counts_test = Counter()\n",
    "for sentence in blogs_texts_train:\n",
    "    # Se separa la sentencia en palabras\n",
    "    sentence = sentence.split(' ')\n",
    "    # Si el ultimo caracter de una palabra no es una letra, se quita\n",
    "    for i in range(len(sentence)):\n",
    "        if sentence[i] != \"\" and not sentence[i][-1].isalpha():\n",
    "            sentence[i] = sentence[i][:-1]\n",
    "    # Se agregan las palabras al diccionario de frecuencias\n",
    "    blogs_word_counts_test.update(sentence)"
   ]
  },
  {
   "cell_type": "markdown",
   "metadata": {},
   "source": [
    "#### Funciones para calcular perplejidad"
   ]
  },
  {
   "cell_type": "code",
   "execution_count": 6,
   "metadata": {},
   "outputs": [],
   "source": [
    "def unigram_perplexity(test_data,probability):\n",
    "    # Inicializa la entropía cruzada y el contador de palabras\n",
    "    cross_entropy = 0.0\n",
    "    word_count = 0\n",
    "\n",
    "    for word in test_data:\n",
    "        if word in probability:\n",
    "            word_prob = probability[word]\n",
    "            cross_entropy += math.log10(word_prob)\n",
    "        else:\n",
    "            word_prob = probability[\"<UNK>\"]\n",
    "            cross_entropy += math.log10(word_prob)\n",
    "        word_count += 1\n",
    "\n",
    "    # Calcula la entropía cruzada promedio (dividida por el número de palabras)\n",
    "    cross_entropy /= word_count\n",
    "\n",
    "    # Calcula la perplejidad como 2 elevado a la entropía cruzada\n",
    "    perplexity = math.pow(2, -cross_entropy)\n",
    "\n",
    "    return perplexity"
   ]
  },
  {
   "cell_type": "code",
   "execution_count": 13,
   "metadata": {},
   "outputs": [],
   "source": [
    "def bigram_perplexity(test_data, probability):\n",
    "    prev = '<s>'\n",
    "    # Inicializa la entropía cruzada y el contador de pares de palabras\n",
    "    cross_entropy = 0.0\n",
    "    pair_count = 0\n",
    "\n",
    "    for w in test_data:\n",
    "        if (prev, w) in probability:\n",
    "            word_pair_prob = probability[(prev, w)]\n",
    "            cross_entropy += math.log10(word_pair_prob)\n",
    "            pair_count += 1\n",
    "        prev = w\n",
    "\n",
    "    # Calcula la entropía cruzada promedio (dividida por el número de pares de palabras)\n",
    "    cross_entropy /= pair_count\n",
    "\n",
    "    # Calcula la perplejidad como 2 elevado a la entropía cruzada\n",
    "    perplexity = math.pow(2, cross_entropy)\n",
    "    return perplexity\n"
   ]
  },
  {
   "cell_type": "markdown",
   "metadata": {},
   "source": [
    "#### Calculos de perplejidad"
   ]
  },
  {
   "cell_type": "code",
   "execution_count": 15,
   "metadata": {},
   "outputs": [
    {
     "name": "stdout",
     "output_type": "stream",
     "text": [
      "Perplejidad unigramas news = 106.7501\n",
      "Perplejidad unigramas blogs = 280.4741\n"
     ]
    }
   ],
   "source": [
    "news_perx_unigrams = round(unigram_perplexity(news_word_counts_test,news_probs_unigrams),4)\n",
    "blogs_perx_unigrams = round(unigram_perplexity(blogs_word_counts_test,blogs_probs_unigrams),4)\n",
    "print(f\"Perplejidad unigramas news = {str(news_perx_unigrams)}\")\n",
    "print(f\"Perplejidad unigramas blogs = {str(blogs_perx_unigrams)}\")"
   ]
  },
  {
   "cell_type": "code",
   "execution_count": 16,
   "metadata": {},
   "outputs": [
    {
     "name": "stdout",
     "output_type": "stream",
     "text": [
      "Perplejidad bigramas news = 0.0133\n",
      "Perplejidad bigramas blogs = 0.0051\n"
     ]
    }
   ],
   "source": [
    "news_perx_bigrams = round(bigram_perplexity(news_word_counts_test, news_probs_bigrams),4)\n",
    "blogs_perx_bigrams = round(bigram_perplexity(blogs_word_counts_test, blogs_probs_bigrams),4)\n",
    "print(f\"Perplejidad bigramas news = {str(news_perx_bigrams)}\")\n",
    "print(f\"Perplejidad bigramas blogs = {str(blogs_perx_bigrams)}\")\n"
   ]
  }
 ],
 "metadata": {
  "kernelspec": {
   "display_name": "Python 3",
   "language": "python",
   "name": "python3"
  },
  "language_info": {
   "codemirror_mode": {
    "name": "ipython",
    "version": 3
   },
   "file_extension": ".py",
   "mimetype": "text/x-python",
   "name": "python",
   "nbconvert_exporter": "python",
   "pygments_lexer": "ipython3",
   "version": "3.11.1"
  },
  "orig_nbformat": 4
 },
 "nbformat": 4,
 "nbformat_minor": 2
}
